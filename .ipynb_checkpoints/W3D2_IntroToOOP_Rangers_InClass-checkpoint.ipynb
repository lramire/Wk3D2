{
 "cells": [
  {
   "cell_type": "markdown",
   "metadata": {},
   "source": [
    "# Object-Oriented-Programming (OOP)"
   ]
  },
  {
   "cell_type": "markdown",
   "metadata": {},
   "source": [
    "## Tasks Today:\n",
    "\n",
    "   \n",
    "\n",
    "1) <b>Creating a Class (Initializing/Declaring)</b> <br>\n",
    "2) <b>Using a Class (Instantiating)</b> <br>\n",
    " &nbsp;&nbsp;&nbsp;&nbsp; a) Creating One Instance <br>\n",
    " &nbsp;&nbsp;&nbsp;&nbsp; b) Creating Multiple Instances <br>\n",
    " &nbsp;&nbsp;&nbsp;&nbsp; c) In-Class Exercise #1 - Create a Class 'Car' and instantiate three different makes of cars <br>\n",
    "3) <b>The \\__init\\__() Method</b> <br>\n",
    " &nbsp;&nbsp;&nbsp;&nbsp; a) The 'self' Attribute <br>\n",
    "4) <b>Class Attributes</b> <br>\n",
    " &nbsp;&nbsp;&nbsp;&nbsp; a) Initializing Attributes <br>\n",
    " &nbsp;&nbsp;&nbsp;&nbsp; b) Setting an Attribute Outside of the \\__init\\__() Method <br>\n",
    " &nbsp;&nbsp;&nbsp;&nbsp; c) Setting Defaults for Attributes <br>\n",
    " &nbsp;&nbsp;&nbsp;&nbsp; d) Accessing Class Attributes <br>\n",
    " &nbsp;&nbsp;&nbsp;&nbsp; e) Changing Class Attributes <br>\n",
    " &nbsp;&nbsp;&nbsp;&nbsp; f) In-Class Exercise #2 - Add a color and wheels attribute to your 'Car' class <br>\n",
    "5) <b>Class Methods</b> <br>\n",
    " &nbsp;&nbsp;&nbsp;&nbsp; a) Creating <br>\n",
    " &nbsp;&nbsp;&nbsp;&nbsp; b) Calling <br>\n",
    " &nbsp;&nbsp;&nbsp;&nbsp; c) Modifying an Attribute's Value Through a Method <br>\n",
    " &nbsp;&nbsp;&nbsp;&nbsp; d) Incrementing an Attribute's Value Through a Method <br>\n",
    " &nbsp;&nbsp;&nbsp;&nbsp; e) In-Class Exercise #3 - Add a method that prints the cars color and wheel number, then call them <br>\n",
    "6) <b>Inheritance</b> <br>\n",
    " &nbsp;&nbsp;&nbsp;&nbsp; a) Syntax for Inheriting from a Parent Class <br>\n",
    " &nbsp;&nbsp;&nbsp;&nbsp; b) The \\__init\\__() Method for a Child Class (super()) <br>\n",
    " &nbsp;&nbsp;&nbsp;&nbsp; c) Defining Attributes and Methods for the Child Class <br>\n",
    " &nbsp;&nbsp;&nbsp;&nbsp; d) Method Overriding <br>\n",
    " &nbsp;&nbsp;&nbsp;&nbsp; e) In-Class Exercise #4 - Create a class 'Ford' that inherits from 'Car' class and initialize it as a Blue Ford Explorer with 4 wheels using the super() method <br>\n",
    "7) <b>Encapsulation</b> <br>\n",
    " &nbsp;&nbsp;&nbsp;&nbsp; a) Public Access Modifier <br>\n",
    " &nbsp;&nbsp;&nbsp;&nbsp; b) Protected Access Modifier <br>\n",
    " &nbsp;&nbsp;&nbsp;&nbsp; c) Private Access Modifier <br>\n",
    "8) <b>Classes as Attributes</b> <br>\n",
    "9) <b>Exercises</b> <br>\n",
    " &nbsp;&nbsp;&nbsp;&nbsp; a) Exercise #1 - Turn the shopping cart program from last week into an object-oriented program <br>"
   ]
  },
  {
   "cell_type": "markdown",
   "metadata": {},
   "source": [
    "## Creating a Class (Initializing/Declaring)\n",
    "<p>When creating a class, function, or even a variable you are initializing that object. Initializing and Declaring occur at the same time in Python, whereas in lower level languages you have to declare an object before initializing it. This is the first step in the process of using a class.</p>"
   ]
  },
  {
   "cell_type": "code",
   "execution_count": 14,
   "metadata": {},
   "outputs": [],
   "source": [
    "# utilitzing the class keyword and then PascalCase the class name.\n",
    "class Car():\n",
    "\n",
    "    # create some class attributes\n",
    "    wheels = 4\n",
    "    color = 'blue'\n"
   ]
  },
  {
   "cell_type": "markdown",
   "metadata": {},
   "source": [
    "## Using a Class (Instantiating)\n",
    "<p>The process of creating a class is called <i>Instantiating</i>. Each time you create a variable of that type of class, it is referred to as an <i>Instance</i> of that class. This is the second step in the process of using a class.</p>"
   ]
  },
  {
   "cell_type": "markdown",
   "metadata": {},
   "source": [
    "##### Creating One Instance"
   ]
  },
  {
   "cell_type": "code",
   "execution_count": 13,
   "metadata": {},
   "outputs": [
    {
     "name": "stdout",
     "output_type": "stream",
     "text": [
      "4\n",
      "blue\n",
      "{'__module__': '__main__', 'wheels': 4, 'color': 'blue', '__dict__': <attribute '__dict__' of 'Car' objects>, '__weakref__': <attribute '__weakref__' of 'Car' objects>, '__doc__': None}\n"
     ]
    }
   ],
   "source": [
    "ford = Car()\n",
    "print(ford.wheels)\n",
    "print(ford.color)\n",
    "\n",
    "print(Car.__dict__) # creates a dictionary "
   ]
  },
  {
   "cell_type": "markdown",
   "metadata": {},
   "source": [
    "##### Creating Multiple Instances"
   ]
  },
  {
   "cell_type": "code",
   "execution_count": 11,
   "metadata": {},
   "outputs": [
    {
     "name": "stdout",
     "output_type": "stream",
     "text": [
      "blue\n",
      "blue\n"
     ]
    }
   ],
   "source": [
    "honda = Car() #objects\n",
    "mazda = Car() #objects\n",
    "suby = Car() #objects\n",
    "\n",
    "mazda.color\n",
    "suby.color\n",
    "\n",
    "print(mazda.color)\n",
    "print(suby.color)"
   ]
  },
  {
   "cell_type": "markdown",
   "metadata": {},
   "source": [
    "##### In-Class Exercise #1 - Create a Class 'Car' and Instantiate three different makes of cars"
   ]
  },
  {
   "cell_type": "code",
   "execution_count": 19,
   "metadata": {},
   "outputs": [],
   "source": [
    "class House():\n",
    "    windows = 40\n",
    "    doors = 2\n",
    "    roof = 1"
   ]
  },
  {
   "cell_type": "code",
   "execution_count": 20,
   "metadata": {},
   "outputs": [
    {
     "name": "stdout",
     "output_type": "stream",
     "text": [
      "40\n",
      "2\n",
      "1\n"
     ]
    }
   ],
   "source": [
    "townhome = House()\n",
    "print(townhome.windows)\n",
    "print(townhome.doors)\n",
    "print(townhome.roof)"
   ]
  },
  {
   "cell_type": "code",
   "execution_count": 47,
   "metadata": {},
   "outputs": [],
   "source": [
    "class House():\n",
    "\n",
    "    def _init_(self, windows, doors, roof):\n",
    "        self.windows = windows\n",
    "        self.doors = doors\n",
    "        self.roof = roof"
   ]
  },
  {
   "cell_type": "code",
   "execution_count": 51,
   "metadata": {},
   "outputs": [
    {
     "ename": "TypeError",
     "evalue": "House() takes no arguments",
     "output_type": "error",
     "traceback": [
      "\u001b[1;31m---------------------------------------------------------------------------\u001b[0m",
      "\u001b[1;31mTypeError\u001b[0m                                 Traceback (most recent call last)",
      "Cell \u001b[1;32mIn[51], line 1\u001b[0m\n\u001b[1;32m----> 1\u001b[0m ranch \u001b[38;5;241m=\u001b[39m \u001b[43mHouse\u001b[49m\u001b[43m(\u001b[49m\u001b[38;5;241;43m400\u001b[39;49m\u001b[43m,\u001b[49m\u001b[43m \u001b[49m\u001b[38;5;241;43m3\u001b[39;49m\u001b[43m,\u001b[49m\u001b[43m \u001b[49m\u001b[38;5;241;43m1\u001b[39;49m\u001b[43m)\u001b[49m\n\u001b[0;32m      2\u001b[0m townhome \u001b[38;5;241m=\u001b[39m House(\u001b[38;5;241m40\u001b[39m, \u001b[38;5;241m2\u001b[39m, \u001b[38;5;241m3\u001b[39m)\n\u001b[0;32m      4\u001b[0m \u001b[38;5;28mprint\u001b[39m(ranch\u001b[38;5;241m.\u001b[39mwindows)\n",
      "\u001b[1;31mTypeError\u001b[0m: House() takes no arguments"
     ]
    }
   ],
   "source": [
    "ranch = House(400, 3, 1)\n",
    "townhome = House(40, 2, 3)\n",
    "\n",
    "print(ranch.windows)\n",
    "print(ranch.doors)\n",
    "print(ranch.roof)\n",
    "\n",
    "print(townhome.windows)\n",
    "print(townhome.doors)\n",
    "print(townhome.roof)"
   ]
  },
  {
   "cell_type": "markdown",
   "metadata": {},
   "source": [
    "## The \\__init\\__() Method <br>\n",
    "<p>This method is used in almost every created class, and called only once upon the creation of the class instance. This method will initialize all variables needed for the object.</p>"
   ]
  },
  {
   "cell_type": "code",
   "execution_count": 32,
   "metadata": {},
   "outputs": [],
   "source": [
    "# create attributes specific to car ..instead of all being blue\n",
    "\n",
    "class Car():\n",
    "\n",
    "    engine = True # class attribute. All have engine\n",
    "    \n",
    "    def _init_(self, wheels, color, doors):\n",
    "        self.wheels = wheels #object attributes\n",
    "        self.color = color #object attributes\n",
    "        self.doors = doors #object attributes\n",
    "        "
   ]
  },
  {
   "cell_type": "code",
   "execution_count": 33,
   "metadata": {},
   "outputs": [
    {
     "ename": "TypeError",
     "evalue": "Car() takes no arguments",
     "output_type": "error",
     "traceback": [
      "\u001b[1;31m---------------------------------------------------------------------------\u001b[0m",
      "\u001b[1;31mTypeError\u001b[0m                                 Traceback (most recent call last)",
      "Cell \u001b[1;32mIn[33], line 1\u001b[0m\n\u001b[1;32m----> 1\u001b[0m ford \u001b[38;5;241m=\u001b[39m \u001b[43mCar\u001b[49m\u001b[43m(\u001b[49m\u001b[38;5;241;43m4\u001b[39;49m\u001b[43m,\u001b[49m\u001b[43m \u001b[49m\u001b[38;5;124;43m'\u001b[39;49m\u001b[38;5;124;43mred\u001b[39;49m\u001b[38;5;124;43m'\u001b[39;49m\u001b[43m,\u001b[49m\u001b[43m \u001b[49m\u001b[38;5;241;43m2\u001b[39;49m\u001b[43m)\u001b[49m\n\u001b[0;32m      2\u001b[0m mazda \u001b[38;5;241m=\u001b[39m Car(\u001b[38;5;241m4\u001b[39m, \u001b[38;5;124m'\u001b[39m\u001b[38;5;124mblack\u001b[39m\u001b[38;5;124m'\u001b[39m, \u001b[38;5;241m2\u001b[39m)\n\u001b[0;32m      3\u001b[0m suby \u001b[38;5;241m=\u001b[39m Car(\u001b[38;5;241m4\u001b[39m, \u001b[38;5;124m'\u001b[39m\u001b[38;5;124mtan\u001b[39m\u001b[38;5;124m'\u001b[39m, \u001b[38;5;241m4\u001b[39m)\n",
      "\u001b[1;31mTypeError\u001b[0m: Car() takes no arguments"
     ]
    }
   ],
   "source": [
    "ford = Car(4, 'red', 2)\n",
    "mazda = Car(4, 'black', 2)\n",
    "suby = Car(4, 'tan', 4)\n",
    "\n",
    "print(ford.color)\n",
    "print(suby.color)"
   ]
  },
  {
   "cell_type": "markdown",
   "metadata": {},
   "source": [
    "##### The 'self' Attribute <br>\n",
    "<p>This attribute is required to keep track of specific instance's attributes. Without the self attribute, the program would not know how to reference or keep track of an instance's attributes.</p>"
   ]
  },
  {
   "cell_type": "code",
   "execution_count": 36,
   "metadata": {},
   "outputs": [
    {
     "name": "stdout",
     "output_type": "stream",
     "text": [
      "Charmander\n",
      "This is Charmander. It is a fire type\n"
     ]
    }
   ],
   "source": [
    "class Pokemon():\n",
    "\n",
    "    def __init__(self, name, type_):\n",
    "        self.name = name\n",
    "        self.type_ = type_\n",
    "\n",
    "    def print_info(self):\n",
    "        print(f\"This is {self.name}. It is a {self.type_} type\")\n",
    "\n",
    "charmander = Pokemon('Charmander', 'fire')\n",
    "print(charmander.name)\n",
    "\n",
    "charmander.print_info() # dot method. aka a function specific to that object/class type"
   ]
  },
  {
   "cell_type": "markdown",
   "metadata": {},
   "source": [
    "## Class Attributes <br>\n",
    "<p>While variables are inside of a class, they are referred to as attributes and not variables. When someone says 'attribute' you know they're speaking about a class. Attributes can be initialized through the init method, or outside of it.</p>"
   ]
  },
  {
   "cell_type": "markdown",
   "metadata": {},
   "source": [
    "##### Initializing Attributes"
   ]
  },
  {
   "cell_type": "code",
   "execution_count": 37,
   "metadata": {},
   "outputs": [],
   "source": [
    "bulbasaur = Pokemon(\"Bulbasaur\", \"Grass\")"
   ]
  },
  {
   "cell_type": "markdown",
   "metadata": {},
   "source": [
    "##### Accessing Class Attributes"
   ]
  },
  {
   "cell_type": "code",
   "execution_count": 41,
   "metadata": {
    "scrolled": true
   },
   "outputs": [
    {
     "name": "stdout",
     "output_type": "stream",
     "text": [
      "Bulbasaur\n",
      "Grass\n",
      "{'name': 'Bulbasaur', 'type_': 'Grass'}\n"
     ]
    }
   ],
   "source": [
    "print(bulbasaur.name) #w/o () it is just returning..can't see that w/o printing\n",
    "print(bulbasaur.type_)\n",
    "\n",
    "print(bulbasaur. __dict__) # accessing all your attributes inside your __init__() method"
   ]
  },
  {
   "cell_type": "markdown",
   "metadata": {},
   "source": [
    "##### Setting Defaults for Attributes"
   ]
  },
  {
   "cell_type": "code",
   "execution_count": 43,
   "metadata": {},
   "outputs": [
    {
     "name": "stdout",
     "output_type": "stream",
     "text": [
      "4\n",
      "Blue\n"
     ]
    }
   ],
   "source": [
    "# two ways of setting default attributes aka parameters\n",
    "\n",
    "class Car():\n",
    "\n",
    "    def __init__(self, wheels):\n",
    "        self.wheels = wheels\n",
    "        self.color = 'Blue' # one way of setting default attributes when you don't want the option to instantiate with them\n",
    "                            # can be set to list, set, empty ... any variable\n",
    "honda = Car(4)\n",
    "\n",
    "print(honda.wheels)\n",
    "print(honda.color)"
   ]
  },
  {
   "cell_type": "code",
   "execution_count": 45,
   "metadata": {},
   "outputs": [
    {
     "name": "stdout",
     "output_type": "stream",
     "text": [
      "Blue\n",
      "Red\n"
     ]
    }
   ],
   "source": [
    "\n",
    "class Car():\n",
    "\n",
    "    def __init__(self, wheels =4, color ='Blue'): # can default attributes if you want the option to instantiate with them. \n",
    "                                                    #Has to be before non default attribute\n",
    "        self.wheels = wheels\n",
    "        self.color = color\n",
    "\n",
    "ford = Car()\n",
    "\n",
    "suby = Car(6, 'Red')\n",
    "\n",
    "print(ford.color)\n",
    "print(suby.color)"
   ]
  },
  {
   "cell_type": "markdown",
   "metadata": {},
   "source": [
    "##### Changing Class Attributes <br>\n",
    "<p>Keep in mind there are global class attributes and then there are attributes only available to each class instance which won't effect other classes.</p>"
   ]
  },
  {
   "cell_type": "code",
   "execution_count": 55,
   "metadata": {},
   "outputs": [],
   "source": [
    "# all variables inside of classes are local to the class. They are accessible anywhere inside that class\n",
    "\n",
    "class Car():\n",
    "\n",
    "    TYPE = 'car' # class attribute but it's also a constant denoted by all caps\n",
    "\n",
    "    def __init__(self, wheels): # instancae attributes (can/will be different for each instance of that class)\n",
    "        self.wheels = wheels\n",
    "        self.color = 'Blue'"
   ]
  },
  {
   "cell_type": "code",
   "execution_count": 56,
   "metadata": {},
   "outputs": [],
   "source": [
    "honda = Car(4)"
   ]
  },
  {
   "cell_type": "markdown",
   "metadata": {},
   "source": [
    "##### In-Class Exercise #2 - Add two new attributes to your 'Car' class then print out two different instances with different doors and seats. Then take that bad boy to the shop and change those attributes. Either with an input or just by changing them"
   ]
  },
  {
   "cell_type": "code",
   "execution_count": 66,
   "metadata": {},
   "outputs": [
    {
     "ename": "TypeError",
     "evalue": "Car() takes no arguments",
     "output_type": "error",
     "traceback": [
      "\u001b[1;31m---------------------------------------------------------------------------\u001b[0m",
      "\u001b[1;31mTypeError\u001b[0m                                 Traceback (most recent call last)",
      "Cell \u001b[1;32mIn[66], line 17\u001b[0m\n\u001b[0;32m     14\u001b[0m         color \u001b[38;5;241m=\u001b[39m \u001b[38;5;28minput\u001b[39m(\u001b[38;5;124m'\u001b[39m\u001b[38;5;124mWhat is the new color of your car?\u001b[39m\u001b[38;5;124m'\u001b[39m)\n\u001b[0;32m     15\u001b[0m         \u001b[38;5;28mself\u001b[39m\u001b[38;5;241m.\u001b[39mcolor \u001b[38;5;241m=\u001b[39m color\n\u001b[1;32m---> 17\u001b[0m honda \u001b[38;5;241m=\u001b[39m \u001b[43mCar\u001b[49m\u001b[43m(\u001b[49m\u001b[38;5;124;43m'\u001b[39;49m\u001b[38;5;124;43mHonda\u001b[39;49m\u001b[38;5;124;43m'\u001b[39;49m\u001b[43m,\u001b[49m\u001b[43m \u001b[49m\u001b[38;5;124;43m'\u001b[39;49m\u001b[38;5;124;43mCRV\u001b[39;49m\u001b[38;5;124;43m'\u001b[39;49m\u001b[43m,\u001b[49m\u001b[43m \u001b[49m\u001b[38;5;241;43m2023\u001b[39;49m\u001b[43m,\u001b[49m\u001b[43m \u001b[49m\u001b[38;5;124;43m'\u001b[39;49m\u001b[38;5;124;43mblack\u001b[39;49m\u001b[38;5;124;43m'\u001b[39;49m\u001b[43m)\u001b[49m\n\u001b[0;32m     18\u001b[0m \u001b[38;5;28mprint\u001b[39m(honda\u001b[38;5;241m.\u001b[39mcolor)\n\u001b[0;32m     19\u001b[0m \u001b[38;5;66;03m#honda.color = 'white'\u001b[39;00m\n\u001b[0;32m     20\u001b[0m \u001b[38;5;66;03m#print(honda.color)\u001b[39;00m\n",
      "\u001b[1;31mTypeError\u001b[0m: Car() takes no arguments"
     ]
    }
   ],
   "source": [
    "class Car():\n",
    "\n",
    "    wheels = 4\n",
    "\n",
    "    def __init_(self, make, model, year, color, doors =4, seats =5):\n",
    "        self.make = make\n",
    "        self.model = model\n",
    "        self.year = year\n",
    "        self.color = color\n",
    "        self.doors = doors\n",
    "        self.seats = seats\n",
    "\n",
    "    def change_color(self): # chaning attricutes by utilizing a method niside of a class\n",
    "        color = input('What is the new color of your car?')\n",
    "        self.color = color\n",
    "\n",
    "honda = Car('Honda', 'CRV', 2023, 'black')\n",
    "print(honda.color)\n",
    "#honda.color = 'white'\n",
    "#print(honda.color)\n",
    "\n",
    "honda.change_color()\n",
    "print(honda.color)\n",
    "\n",
    "ford = Car(\"Ford\", 'Escape', 2020, 'grey')\n",
    "print(f\"My {ford.make} {ford.model} is {ford.color} with {ford.doors} doors and {ford.seats} seats\")"
   ]
  },
  {
   "cell_type": "markdown",
   "metadata": {},
   "source": [
    "## Class Methods <br>\n",
    "<p>While inside of a class, functions are referred to as 'methods'. If you hear someone mention methods, they're speaking about classes. Methods are essentially functions, but only callable on the instances of a class.</p>"
   ]
  },
  {
   "cell_type": "markdown",
   "metadata": {},
   "source": [
    "##### Creating"
   ]
  },
  {
   "cell_type": "code",
   "execution_count": 81,
   "metadata": {},
   "outputs": [],
   "source": [
    "class Bus():\n",
    "\n",
    "    \"\"\"\n",
    "    class Bus will have the following attributes: doors, seats, seats available, color, and bus driver\n",
    "\n",
    "    Attribute Types:\n",
    "    -doors: integer\n",
    "    -seats: integer\n",
    "    -seats_available: integer\n",
    "    -color: string\n",
    "    -bus_driver: string\n",
    "\n",
    "    \"\"\"\n",
    "\n",
    "    def __init__(self, doors, seats, seats_available, color, bus_driver):\n",
    "        self.doors = doors\n",
    "        self.seats = seats\n",
    "        self.seats_available = seats_available\n",
    "        self.color = color\n",
    "        self.bus_driver = bus_driver\n",
    "\n",
    "    # decrement the number of seats available when someone comes on the buss\n",
    "    def load_passengers(self):\n",
    "\n",
    "        if self.seats_available <= 0:\n",
    "            print(\"This bus is full! We can't take anymore passengers.\")\n",
    "\n",
    "        else:\n",
    "            while True:\n",
    "                passengers = int(input(\"How many passengers are getting on today? \"))\n",
    "                if self.seats_available - passengers < 0:\n",
    "                    print(\"You are trying to load too many passengers. \")\n",
    "                else:\n",
    "                    self.seats_available -= passengers\n",
    "                    break\n",
    "                    \n",
    "            print(f\"{passengers} passengers have boarded. There are {self.seats_available} seats left on the bus.\")\n",
    "\n",
    "    # need to increment the number of seats available when someone gets off bus\n",
    "    def unload_passengers(self):\n",
    "        if self.seats_available >= self.seats:\n",
    "            print(\"There is no one on the bus to unload.\")\n",
    "            self.seats_available = self.seats\n",
    "        else:\n",
    "            unload = int(input(\"How many passengers are getting off the bus?\"))\n",
    "            self.seats_available += unload\n",
    "            if self.seats_available >= self.seats:\n",
    "                self.seats_available = self.seats\n",
    "\n",
    "        print(f\"{unload} passengers have left the bus. There are {self.seats_available} seats left on the bus.\")\n",
    "\n",
    "    # change the bus driver\n",
    "    def change_driver(self):\n",
    "        change = input(\"Who is replacing the bus driver?\")\n",
    "        self.bus_driver = change\n",
    "        print(f\"New bus driver is {self.bus_driver}. Be sure to thank them.\")\n",
    "\n",
    "    # display the available seats\n",
    "    def check_seats(self):\n",
    "        print(f\"There are {self.seats_available} seats on this bus. \")\n",
    "\n",
    "    # display bus color\n",
    "    def admire_bus(self):\n",
    "        print(f\"Would ya look at this beautiful {self.color} bus. Just look at it!\")"
   ]
  },
  {
   "cell_type": "markdown",
   "metadata": {},
   "source": [
    "##### Calling"
   ]
  },
  {
   "cell_type": "code",
   "execution_count": 83,
   "metadata": {},
   "outputs": [
    {
     "name": "stdin",
     "output_type": "stream",
     "text": [
      "What would you like to do today?: Load/Unlaod?Change Driver/ Check Seats/Admire?Quit? load\n",
      "How many passengers are getting on today?  20\n"
     ]
    },
    {
     "name": "stdout",
     "output_type": "stream",
     "text": [
      "20 passengers have boarded. There are 80 seats left on the bus.\n"
     ]
    },
    {
     "name": "stdin",
     "output_type": "stream",
     "text": [
      "What would you like to do today?: Load/Unlaod?Change Driver/ Check Seats/Admire?Quit? load\n",
      "How many passengers are getting on today?  50\n"
     ]
    },
    {
     "name": "stdout",
     "output_type": "stream",
     "text": [
      "50 passengers have boarded. There are 30 seats left on the bus.\n"
     ]
    },
    {
     "name": "stdin",
     "output_type": "stream",
     "text": [
      "What would you like to do today?: Load/Unlaod?Change Driver/ Check Seats/Admire?Quit? check\n"
     ]
    },
    {
     "name": "stdout",
     "output_type": "stream",
     "text": [
      "There are 30 seats on this bus. \n"
     ]
    },
    {
     "name": "stdin",
     "output_type": "stream",
     "text": [
      "What would you like to do today?: Load/Unlaod?Change Driver/ Check Seats/Admire?Quit? check\n"
     ]
    },
    {
     "name": "stdout",
     "output_type": "stream",
     "text": [
      "There are 30 seats on this bus. \n"
     ]
    },
    {
     "name": "stdin",
     "output_type": "stream",
     "text": [
      "What would you like to do today?: Load/Unlaod?Change Driver/ Check Seats/Admire?Quit? change\n",
      "Who is replacing the bus driver? Kayne\n"
     ]
    },
    {
     "name": "stdout",
     "output_type": "stream",
     "text": [
      "New bus driver is Kayne. Be sure to thank them.\n"
     ]
    },
    {
     "name": "stdin",
     "output_type": "stream",
     "text": [
      "What would you like to do today?: Load/Unlaod?Change Driver/ Check Seats/Admire?Quit? admire\n"
     ]
    },
    {
     "name": "stdout",
     "output_type": "stream",
     "text": [
      "Would ya look at this beautiful red bus. Just look at it!\n"
     ]
    },
    {
     "name": "stdin",
     "output_type": "stream",
     "text": [
      "What would you like to do today?: Load/Unlaod?Change Driver/ Check Seats/Admire?Quit? quit\n"
     ]
    },
    {
     "name": "stdout",
     "output_type": "stream",
     "text": [
      "There are still passengers to be picked up\n"
     ]
    }
   ],
   "source": [
    "def run():\n",
    "\n",
    "    my_bus = Bus(2, 100, 100, 'red', 'Alex')\n",
    "\n",
    "    while True:\n",
    "        response = input(\"What would you like to do today?: Load/Unlaod?Change Driver/ Check Seats/Admire?Quit?\").lower().strip()\n",
    "\n",
    "        if response == 'quit':\n",
    "            print(\"There are still passengers to be picked up\")\n",
    "            break\n",
    "        elif response == 'load':\n",
    "            my_bus.load_passengers()\n",
    "        elif response == 'unload':\n",
    "            my_bus.unload_passengers()\n",
    "        elif response in {'change', 'change driver'}:\n",
    "            my_bus.change_driver()\n",
    "        elif response in {'check', 'check seats'}:\n",
    "            my_bus.check_seats()\n",
    "        elif response == 'admire':\n",
    "            my_bus.admire_bus()\n",
    "        else:\n",
    "            print(\"Not a valid response. Please try again\")\n",
    "\n",
    "run()"
   ]
  },
  {
   "cell_type": "markdown",
   "metadata": {},
   "source": [
    "##### Modifying an Attribute's Value Through a Method"
   ]
  },
  {
   "cell_type": "code",
   "execution_count": null,
   "metadata": {},
   "outputs": [],
   "source": [
    "# see above\n",
    "# load_passengers()\n",
    "# unload_passengers()\n",
    "# change_driver()"
   ]
  },
  {
   "cell_type": "markdown",
   "metadata": {},
   "source": [
    "##### Incrementing an Attribute's Value Through a Method"
   ]
  },
  {
   "cell_type": "code",
   "execution_count": null,
   "metadata": {},
   "outputs": [],
   "source": [
    "#unload_passengers()"
   ]
  },
  {
   "cell_type": "markdown",
   "metadata": {},
   "source": [
    "##### In-Class Exercise #3 - Add a method that takes in three parameters of year, doors and seats and prints out a formatted print statement with make, model, year, seats, and doors"
   ]
  },
  {
   "cell_type": "code",
   "execution_count": 113,
   "metadata": {},
   "outputs": [
    {
     "ename": "SyntaxError",
     "evalue": "invalid syntax (1081969277.py, line 20)",
     "output_type": "error",
     "traceback": [
      "\u001b[1;36m  Cell \u001b[1;32mIn[113], line 20\u001b[1;36m\u001b[0m\n\u001b[1;33m    if self.doors is < 4:\u001b[0m\n\u001b[1;37m                     ^\u001b[0m\n\u001b[1;31mSyntaxError\u001b[0m\u001b[1;31m:\u001b[0m invalid syntax\n"
     ]
    }
   ],
   "source": [
    "# Create class with 2 paramters inside of the __init__ which are make and model, more if you'd like\n",
    "\n",
    "# Create two methods for your class\n",
    "\n",
    "# Create a method that alters an attribute for your class\n",
    "\n",
    "# Display method that prints information about the vehicle\n",
    "\n",
    "# Output: This car is from 2019 and is a Ford Expolorer and has 4 doors and 5 seats\n",
    "\n",
    "# reminder in order to call class methods object.method()\n",
    "\n",
    "class Car():\n",
    "    def __init__(self, make, doors, color):\n",
    "        self.make = make\n",
    "        self.doors = doors\n",
    "        self.color = color\n",
    "\n",
    "    def numofdoors(self):\n",
    "        if self.doors is < 4:\n",
    "            print(f\"This car has {self.doors} doors and needs more doors!! Back in line!\")\n",
    "        else:\n",
    "            print(f\"This car has {self.doors} doors and is ready for paint!\")\n",
    "\n",
    "\n",
    "    def whatmake(self):\n",
    "        if self.make == ford:\n",
    "            print(\"Looks good. This goes to the color bay.\")\n",
    "        else:\n",
    "            print(f\"{self.make}! How did that get in this ford plant? Scrap it!\")\n",
    "        \n"
   ]
  },
  {
   "cell_type": "markdown",
   "metadata": {},
   "source": [
    "## Inheritance <br>\n",
    "<p>You can create a child-parent relationship between two classes by using inheritance. What this allows you to do is have overriding methods, but also inherit traits from the parent class. Think of it as an actual parent and child, the child will inherit the parent's genes, as will the classes in OOP</p>"
   ]
  },
  {
   "cell_type": "markdown",
   "metadata": {},
   "source": [
    "##### Syntax for Inheriting from a Parent Class"
   ]
  },
  {
   "cell_type": "code",
   "execution_count": 5,
   "metadata": {},
   "outputs": [],
   "source": [
    "# creation of a parent class\n",
    "\n",
    "class Animal():\n",
    "\n",
    "    ACCELERATION = 9.8 # constant class attribute\n",
    "\n",
    "    def __init__(self, name, species, legs = 4):\n",
    "        self.name = name\n",
    "        self.species = species\n",
    "        self.legs = legs\n",
    "\n",
    "    #generic parent method\n",
    "    def make_sound(self):\n",
    "        print(\"REEEEEEEE\")"
   ]
  },
  {
   "cell_type": "markdown",
   "metadata": {},
   "source": [
    "##### The \\__init\\__() Method for a Child Class - super()"
   ]
  },
  {
   "cell_type": "code",
   "execution_count": 8,
   "metadata": {
    "scrolled": true
   },
   "outputs": [
    {
     "name": "stdout",
     "output_type": "stream",
     "text": [
      "Lassy accelerates at 9.8 and has 4 legs\n",
      "REEEEEEEE\n"
     ]
    }
   ],
   "source": [
    "# creation of child class inheriting from parent class\n",
    "\n",
    "class Dog(Animal):\n",
    "\n",
    "    def __init__(self, name, eye_color, species = \"Dog\"):\n",
    "        super().__init__(name, species)\n",
    "\n",
    "    def print_info(self):\n",
    "        print(f\"{self.name} accelerates at {self.ACCELERATION} and has {self.legs} legs\")\n",
    "\n",
    "Lassy = Dog('Lassy', 'brown')\n",
    "Lassy.print_info()\n",
    "Lassy.make_sound()\n",
    "#print(Lassy.eye_color)"
   ]
  },
  {
   "cell_type": "code",
   "execution_count": 7,
   "metadata": {},
   "outputs": [
    {
     "name": "stdout",
     "output_type": "stream",
     "text": [
      "Bark Bark Bark\n"
     ]
    }
   ],
   "source": [
    "class Mutt(Dog):\n",
    "\n",
    "    def __init__(self, name, eye_color, nickname, species = \"Dog\", legs = 4):\n",
    "        Dog.__init__(self, name, eye_color, species)\n",
    "        self.nickname = nickname\n",
    "\n",
    "    #override methods form one class to the next. ( Idea of polymorphism aka many forms)\n",
    "    def make_sound(self):\n",
    "        print(\"Bark Bark Bark\")\n",
    "\n",
    "henri = Mutt('henri', 'brown', 'mooshies')\n",
    "henri.make_sound()"
   ]
  },
  {
   "cell_type": "markdown",
   "metadata": {},
   "source": [
    "##### Defining Attributes and Methods for the Child Class"
   ]
  },
  {
   "cell_type": "code",
   "execution_count": null,
   "metadata": {},
   "outputs": [],
   "source": [
    "# See Above"
   ]
  },
  {
   "cell_type": "markdown",
   "metadata": {},
   "source": [
    "##### Method Overriding"
   ]
  },
  {
   "cell_type": "code",
   "execution_count": null,
   "metadata": {},
   "outputs": [],
   "source": [
    "# See Above"
   ]
  },
  {
   "cell_type": "markdown",
   "metadata": {},
   "source": [
    "## Encapsulation\n"
   ]
  },
  {
   "cell_type": "markdown",
   "metadata": {},
   "source": [
    "<p>Encapsulation is one of the fundamental concepts in object-oriented programming (OOP). It describes the idea of wrapping data and the methods that work on data within one unit. This puts restrictions on accessing variables and methods directly and can prevent the accidental modification of data. f"
   ]
  },
  {
   "cell_type": "markdown",
   "metadata": {},
   "source": [
    "### Access Modifiers\n"
   ]
  },
  {
   "cell_type": "markdown",
   "metadata": {},
   "source": [
    "#### Public\n",
    "<p> Attributes & methods default to public in classes. Meaning they can be accessed from anywhere. "
   ]
  },
  {
   "cell_type": "code",
   "execution_count": 1,
   "metadata": {},
   "outputs": [],
   "source": [
    "#see above. All attributes & methods in the previous examples are public"
   ]
  },
  {
   "cell_type": "markdown",
   "metadata": {},
   "source": [
    "#### Protected \n",
    "<p>Protected attributes are denoted with a singular '_' underscore. Attributes & methods that are protected are only accessible in the class it derived from and any inherited classes. "
   ]
  },
  {
   "cell_type": "code",
   "execution_count": null,
   "metadata": {},
   "outputs": [],
   "source": [
    "class Animeal():\n",
    "\n",
    "    ACCELERATION = 9.8\n",
    "\n",
    "    def __init__(self, name, species, legs = 4):\n",
    "        self.name = name\n",
    "        self.species = species\n",
    "        self.legs = legs\n",
    "\n",
    "class Dog(Animal):\n",
    "\n",
    "    def __init__(self, name, species = 'Dog'):\n",
    "        super().__init__(name, species)\n",
    "\n",
    "    def display_species(self):\n",
    "\n",
    "        return self._species #protected variable can be accessed in classes they derive from but also any inherited class\n",
    "\n",
    "eyo = Dog('Eyo')\n",
    "eyo.display_species()\n",
    "\n",
    "print(eyo._species) #pythong makes rules but doesn't necessarily enforce them. DON'T DO THIS!"
   ]
  },
  {
   "cell_type": "code",
   "execution_count": null,
   "metadata": {},
   "outputs": [],
   "source": [
    "class Animeal():\n",
    "\n",
    "    ACCELERATION = 9.8\n",
    "\n",
    "    def __init__(self, name, species, legs = 4):\n",
    "        self.name = name\n",
    "        self.species = species\n",
    "        self.legs = legs\n",
    "\n",
    "class Dog(Animal):\n",
    "\n",
    "    def __init__(self, name, species = 'Dog'):\n",
    "        super().__init__(name, species)\n",
    "\n",
    "    def display_species(self):\n",
    "\n",
    "        return self.__species # double underscores\n",
    "\n",
    "eyo = Dog('Eyo')\n",
    "eyo.display_species()\n",
    "\n",
    "print(eyo._species)"
   ]
  },
  {
   "cell_type": "markdown",
   "metadata": {},
   "source": [
    "#### Private \n",
    "<p>Private attributes are denoted with a double '__' underscore. Attributes & methods that are private are only accessible in the class it was derived from making them the most secure. "
   ]
  },
  {
   "cell_type": "code",
   "execution_count": 1,
   "metadata": {},
   "outputs": [
    {
     "name": "stdout",
     "output_type": "stream",
     "text": [
      "[' ', 'apple', ' ', 'banana', '  ', 'cherry', 'durian']\n"
     ]
    }
   ],
   "source": []
  },
  {
   "cell_type": "markdown",
   "metadata": {},
   "source": [
    "## Classes as Attributes <br>\n",
    "<p>Classes can also be used as attributes within another class. This is useful in situations where you need to keep variables locally stored, instead of globally stored.</p>"
   ]
  },
  {
   "cell_type": "code",
   "execution_count": 114,
   "metadata": {},
   "outputs": [
    {
     "name": "stdout",
     "output_type": "stream",
     "text": [
      "2023 Tesla Model Y with 7.8 VOLTZ 20 cell battery\n"
     ]
    }
   ],
   "source": [
    "class Battery():\n",
    "    VOLTZ = 7.8\n",
    "\n",
    "    def __init__(self, cells):\n",
    "        self.cells = cells\n",
    "\n",
    "class Car():\n",
    "\n",
    "    def __init__(self, year, make, model, battery):\n",
    "        self.year = year\n",
    "        self.make = make\n",
    "        self.model = model\n",
    "        self.battery = battery\n",
    "\n",
    "    def print_info(self):\n",
    "        print(f\"{self.year} {self.make} {self.model} with {self.battery.VOLTZ} VOLTZ {self.battery.cells} cell battery\")\n",
    "\n",
    "battery = Battery(20)\n",
    "\n",
    "tesla = Car(2023, 'Tesla', 'Model Y', battery)\n",
    "\n",
    "tesla.print_info()\n"
   ]
  },
  {
   "cell_type": "markdown",
   "metadata": {},
   "source": [
    "### Generators in Classes"
   ]
  },
  {
   "cell_type": "code",
   "execution_count": 146,
   "metadata": {},
   "outputs": [],
   "source": [
    "class Movie:\n",
    "\n",
    "    def __init__(self):\n",
    "        self.genres = ['spooky', 'horror', 'thriller', 'adventure', 'comedy', 'action']\n",
    "        self.generator_object = self.yield_genres()\n",
    "\n",
    "    def yield_genres(self):\n",
    "        for genre in self.genres:\n",
    "            yield genre\n",
    "\n",
    "    def show_genres(self):\n",
    "        try:\n",
    "            return next(self.generator_object)\n",
    "        except:\n",
    "            return \"No more genres to return\""
   ]
  },
  {
   "cell_type": "code",
   "execution_count": 147,
   "metadata": {},
   "outputs": [],
   "source": [
    "my_movie = Movie()"
   ]
  },
  {
   "cell_type": "code",
   "execution_count": 148,
   "metadata": {},
   "outputs": [
    {
     "data": {
      "text/plain": [
       "'spooky'"
      ]
     },
     "execution_count": 148,
     "metadata": {},
     "output_type": "execute_result"
    }
   ],
   "source": [
    "my_movie.show_genres()"
   ]
  },
  {
   "cell_type": "markdown",
   "metadata": {},
   "source": [
    "# Exercises"
   ]
  },
  {
   "cell_type": "markdown",
   "metadata": {},
   "source": [
    "### Exercise 1 - Turn the shopping cart program from last week into an object-oriented program\n",
    "\n",
    "The comments in the cell below are there as a guide for thinking about the problem. However, if you feel a different way is best for you and your own thought process, please do what feels best for you by all means."
   ]
  },
  {
   "cell_type": "code",
   "execution_count": 12,
   "metadata": {},
   "outputs": [
    {
     "name": "stdout",
     "output_type": "stream",
     "text": [
      "choco cookie ingredients -I'll remember what those are\n",
      "serranos\n",
      "tomatos\n",
      "Whatever flavor of onion you're feeling\n",
      "garlic\n",
      "cilantro\n",
      "avocado\n",
      "pineapple\n",
      "Chips for the soon to be salsa\n",
      "\n",
      "serranos\n",
      "tomatos\n",
      "Whatever flavor of onion you're feeling\n",
      "garlic\n",
      "cilantro\n",
      "avocado\n",
      "pineapple\n",
      "Chips for the soon to be salsa\n"
     ]
    }
   ],
   "source": [
    "# Create a class called cart that retains items and has methods to add, remove, and show\n",
    "\n",
    "class Cart():\n",
    "    def __init__(self):\n",
    "        self.items = []\n",
    "\n",
    "    def add(self,item):\n",
    "        self.items.append(item)\n",
    "\n",
    "    def remove(self,item):\n",
    "        print()\n",
    "        if item in self.items:\n",
    "            self.items.remove(item)\n",
    "        else:\n",
    "            print(\"That item is not in the grocery list.\")\n",
    "\n",
    "    def show(self):\n",
    "        if len(self.items) == 0:\n",
    "            print(\"Nothing in cart.\")\n",
    "        else:\n",
    "            for item in self.items:\n",
    "                print(item)\n",
    "\n",
    "#============ Calling class=======\n",
    "\n",
    "my_cart = Cart()\n",
    "my_cart.add(\"choco cookie ingredients -I'll remember what those are\")\n",
    "my_cart.add(\"serranos\")\n",
    "my_cart.add(\"tomatos\")\n",
    "my_cart.add(\"Whatever flavor of onion you're feeling\") # thought of error handling after this one ..but, not needed. \n",
    "my_cart.add(\"garlic\")\n",
    "my_cart.add(\"cilantro\")\n",
    "my_cart.add(\"avocado\")\n",
    "my_cart.add(\"pineapple\")\n",
    "my_cart.add(\"Chips for the soon to be salsa\")\n",
    "my_cart.show()\n",
    "\n",
    "my_cart.remove(\"choco cookie ingredients -I'll remember what those are\") # this doesn't go with salsa. Gross\n",
    "my_cart.show()\n",
    "\n",
    "\n",
    "# I suppose this output is ok. Reading top down which will show unremoved items.. kind of awkward since we axed one.\n",
    "\n",
    "    \n",
    "   # pass # is this needed?\n",
    "    "
   ]
  },
  {
   "cell_type": "markdown",
   "metadata": {},
   "source": [
    "### Exercise 1 Option 2 - Create A Video Game Character Class using Object-Oriented Programming\n",
    "<p>The character class should have the following attributes: character type (i.e. ogre, human, elf, etc), health points, attack points, weapons (list or dictionary). The class should also have the following methods to deplete health points, regain health points, add or remove weapons, and show character stats.\n",
    "    "
   ]
  },
  {
   "cell_type": "code",
   "execution_count": null,
   "metadata": {},
   "outputs": [],
   "source": [
    "\n",
    "class Character():\n",
    "    pass\n"
   ]
  },
  {
   "cell_type": "markdown",
   "metadata": {},
   "source": [
    "### Exercise 2 - Write a Python class which has two methods get_String and print_String. get_String accepts a string from the user and print_String prints the string in upper case"
   ]
  },
  {
   "cell_type": "code",
   "execution_count": 16,
   "metadata": {},
   "outputs": [
    {
     "name": "stdin",
     "output_type": "stream",
     "text": [
      "Insert great string here:  fa la la la la fa la la la la la la la la\n"
     ]
    },
    {
     "name": "stdout",
     "output_type": "stream",
     "text": [
      "FA LA LA LA LA FA LA LA LA LA LA LA LA LA\n"
     ]
    }
   ],
   "source": [
    "\n",
    "class SomethingString():\n",
    "\n",
    "    def __init__(self):\n",
    "        self.stringbean = str()\n",
    "\n",
    "    def get_String(self):\n",
    "        self.stringbean = input(\"Insert great string here: \")\n",
    "\n",
    "    def print_String(self):\n",
    "        print(self.stringbean.upper()) #  .upper doesn't work there :/ ..it does now. missed a )\n",
    "\n",
    "this_string = SomethingString()\n",
    "this_string.get_String()\n",
    "this_string.print_String()\n",
    "#print(this_string)"
   ]
  }
 ],
 "metadata": {
  "kernelspec": {
   "display_name": "Python 3 (ipykernel)",
   "language": "python",
   "name": "python3"
  },
  "language_info": {
   "codemirror_mode": {
    "name": "ipython",
    "version": 3
   },
   "file_extension": ".py",
   "mimetype": "text/x-python",
   "name": "python",
   "nbconvert_exporter": "python",
   "pygments_lexer": "ipython3",
   "version": "3.10.11"
  }
 },
 "nbformat": 4,
 "nbformat_minor": 4
}
